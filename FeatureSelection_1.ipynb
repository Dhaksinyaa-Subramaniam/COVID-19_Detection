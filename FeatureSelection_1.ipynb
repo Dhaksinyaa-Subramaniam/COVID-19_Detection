{
 "cells": [
  {
   "cell_type": "code",
   "execution_count": 1,
   "id": "2ba7a784",
   "metadata": {},
   "outputs": [],
   "source": [
    "import os\n",
    "import pandas as pd\n",
    "import numpy as np\n",
    "import matplotlib.pyplot as plt\n",
    "import seaborn as sns"
   ]
  },
  {
   "cell_type": "code",
   "execution_count": 2,
   "id": "faedea44",
   "metadata": {},
   "outputs": [],
   "source": [
    "dataset = pd.read_csv(r\"C:\\Users\\iamdh\\GTCConly.csv\")"
   ]
  },
  {
   "cell_type": "code",
   "execution_count": 3,
   "id": "8a9a203f",
   "metadata": {},
   "outputs": [
    {
     "data": {
      "text/plain": [
       "((192, 39), (192,))"
      ]
     },
     "execution_count": 3,
     "metadata": {},
     "output_type": "execute_result"
    }
   ],
   "source": [
    "X=dataset.drop('Classification',axis=1)\n",
    "Y=dataset['Classification']\n",
    "X.shape,Y.shape"
   ]
  },
  {
   "cell_type": "code",
   "execution_count": 4,
   "id": "469ae45f",
   "metadata": {},
   "outputs": [
    {
     "name": "stdout",
     "output_type": "stream",
     "text": [
      "Requirement already satisfied: mrmr_selection in c:\\users\\iamdh\\anaconda3\\lib\\site-packages (0.2.4)\n",
      "Requirement already satisfied: sklearn in c:\\users\\iamdh\\anaconda3\\lib\\site-packages (from mrmr_selection) (0.0)\n",
      "Requirement already satisfied: tqdm in c:\\users\\iamdh\\anaconda3\\lib\\site-packages (from mrmr_selection) (4.59.0)\n",
      "Requirement already satisfied: category-encoders in c:\\users\\iamdh\\anaconda3\\lib\\site-packages (from mrmr_selection) (2.4.0)\n",
      "Requirement already satisfied: jinja2 in c:\\users\\iamdh\\anaconda3\\lib\\site-packages (from mrmr_selection) (2.11.3)\n",
      "Requirement already satisfied: pandas>=1.0.3 in c:\\users\\iamdh\\anaconda3\\lib\\site-packages (from mrmr_selection) (1.2.4)\n",
      "Requirement already satisfied: joblib in c:\\users\\iamdh\\anaconda3\\lib\\site-packages (from mrmr_selection) (1.0.1)\n",
      "Requirement already satisfied: numpy>=1.18.1 in c:\\users\\iamdh\\anaconda3\\lib\\site-packages (from mrmr_selection) (1.20.1)\n",
      "Requirement already satisfied: scipy in c:\\users\\iamdh\\anaconda3\\lib\\site-packages (from mrmr_selection) (1.6.2)\n",
      "Requirement already satisfied: python-dateutil>=2.7.3 in c:\\users\\iamdh\\anaconda3\\lib\\site-packages (from pandas>=1.0.3->mrmr_selection) (2.8.1)\n",
      "Requirement already satisfied: pytz>=2017.3 in c:\\users\\iamdh\\anaconda3\\lib\\site-packages (from pandas>=1.0.3->mrmr_selection) (2021.1)\n",
      "Requirement already satisfied: six>=1.5 in c:\\users\\iamdh\\anaconda3\\lib\\site-packages (from python-dateutil>=2.7.3->pandas>=1.0.3->mrmr_selection) (1.15.0)\n",
      "Requirement already satisfied: scikit-learn>=0.20.0 in c:\\users\\iamdh\\anaconda3\\lib\\site-packages (from category-encoders->mrmr_selection) (0.24.1)\n",
      "Requirement already satisfied: statsmodels>=0.9.0 in c:\\users\\iamdh\\anaconda3\\lib\\site-packages (from category-encoders->mrmr_selection) (0.12.2)\n",
      "Requirement already satisfied: patsy>=0.5.1 in c:\\users\\iamdh\\anaconda3\\lib\\site-packages (from category-encoders->mrmr_selection) (0.5.1)\n",
      "Requirement already satisfied: threadpoolctl>=2.0.0 in c:\\users\\iamdh\\anaconda3\\lib\\site-packages (from scikit-learn>=0.20.0->category-encoders->mrmr_selection) (2.1.0)\n",
      "Requirement already satisfied: MarkupSafe>=0.23 in c:\\users\\iamdh\\anaconda3\\lib\\site-packages (from jinja2->mrmr_selection) (1.1.1)\n",
      "Note: you may need to restart the kernel to use updated packages.\n"
     ]
    }
   ],
   "source": [
    "pip install mrmr_selection\n"
   ]
  },
  {
   "cell_type": "code",
   "execution_count": 5,
   "id": "af61d8ef",
   "metadata": {},
   "outputs": [
    {
     "name": "stderr",
     "output_type": "stream",
     "text": [
      "100%|██████████| 39/39 [00:01<00:00, 20.92it/s]\n"
     ]
    }
   ],
   "source": [
    "from mrmr import mrmr_classif\n",
    "selected_features = mrmr_classif(X=X, y=Y, K=92)"
   ]
  },
  {
   "cell_type": "code",
   "execution_count": 6,
   "id": "4941bcab",
   "metadata": {},
   "outputs": [
    {
     "name": "stdout",
     "output_type": "stream",
     "text": [
      "['GTCC_1', 'GTCCDeltaDelta_1', 'GTCC_8', 'GTCC_12', 'GTCCDelta_4', 'GTCC_9', 'GTCC_6', 'GTCCDelta_2', 'GTCCDeltaDelta_10', 'GTCC_10', 'GTCCDeltaDelta_3', 'GTCCDelta_1', 'GTCCDelta_8', 'GTCCDelta_12', 'GTCCDelta_11', 'GTCCDelta_9', 'GTCCDelta_7', 'GTCC_13', 'GTCC_4', 'GTCC_3', 'GTCCDelta_5', 'GTCCDelta_10', 'GTCC_7', 'GTCCDeltaDelta_13', 'GTCC_2', 'GTCCDeltaDelta_4', 'GTCC_11', 'GTCCDeltaDelta_9', 'GTCCDelta_3', 'GTCCDeltaDelta_2', 'GTCCDelta_13', 'GTCC_5', 'GTCCDelta_6', 'GTCCDeltaDelta_7', 'GTCCDeltaDelta_12', 'GTCCDeltaDelta_6', 'GTCCDeltaDelta_5', 'GTCCDeltaDelta_11', 'GTCCDeltaDelta_8']\n"
     ]
    }
   ],
   "source": [
    "print (selected_features)"
   ]
  },
  {
   "cell_type": "code",
   "execution_count": 7,
   "id": "6c42fdd8",
   "metadata": {},
   "outputs": [],
   "source": [
    "from sklearn.feature_selection import SelectKBest\n",
    "from sklearn.feature_selection import f_classif\n"
   ]
  },
  {
   "cell_type": "code",
   "execution_count": 17,
   "id": "3473109b",
   "metadata": {},
   "outputs": [],
   "source": [
    "select = SelectKBest(score_func=f_classif, k=39)\n",
    "z = select.fit_transform(X,Y)\n"
   ]
  },
  {
   "cell_type": "code",
   "execution_count": 18,
   "id": "ef14c78c",
   "metadata": {},
   "outputs": [],
   "source": [
    "features = np.array(X.columns)"
   ]
  },
  {
   "cell_type": "code",
   "execution_count": 19,
   "id": "f28dd426",
   "metadata": {},
   "outputs": [],
   "source": [
    "filter = select.get_support()"
   ]
  },
  {
   "cell_type": "code",
   "execution_count": 20,
   "id": "3f0a4beb",
   "metadata": {},
   "outputs": [],
   "source": [
    "scores=select.scores_[filter]\n",
    "filter_scores = list(zip(features[filter], scores))\n"
   ]
  },
  {
   "cell_type": "code",
   "execution_count": 21,
   "id": "24fdac40",
   "metadata": {},
   "outputs": [],
   "source": [
    "ns_df = pd.DataFrame(data = filter_scores, columns=\n",
    "\n",
    "  ['Feat_names','Scores'])\n",
    "\n",
    "ns_df_sorted = ns_df.sort_values(['Scores','Feat_names'], ascending =\n",
    "\n",
    "  [False, True])\n"
   ]
  },
  {
   "cell_type": "code",
   "execution_count": 22,
   "id": "8d100f8d",
   "metadata": {},
   "outputs": [
    {
     "name": "stdout",
     "output_type": "stream",
     "text": [
      "           Feat_names     Scores\n",
      "0              GTCC_1  66.069383\n",
      "7              GTCC_8  19.216824\n",
      "5              GTCC_6  15.977122\n",
      "14        GTCCDelta_2  12.737655\n",
      "8              GTCC_9  12.069625\n",
      "13        GTCCDelta_1   9.389176\n",
      "20        GTCCDelta_8   8.727053\n",
      "9             GTCC_10   7.104081\n",
      "16        GTCCDelta_4   6.361823\n",
      "21        GTCCDelta_9   5.897008\n",
      "19        GTCCDelta_7   5.602391\n",
      "28   GTCCDeltaDelta_3   5.518235\n",
      "35  GTCCDeltaDelta_10   5.306305\n",
      "24       GTCCDelta_12   4.931912\n",
      "23       GTCCDelta_11   3.980860\n",
      "2              GTCC_3   3.383693\n",
      "11            GTCC_12   3.376605\n",
      "17        GTCCDelta_5   3.196844\n",
      "6              GTCC_7   3.147989\n",
      "26   GTCCDeltaDelta_1   3.113956\n",
      "22       GTCCDelta_10   3.062266\n",
      "3              GTCC_4   3.060720\n",
      "1              GTCC_2   2.865152\n",
      "12            GTCC_13   2.848810\n",
      "15        GTCCDelta_3   1.596990\n",
      "10            GTCC_11   1.580657\n",
      "38  GTCCDeltaDelta_13   1.548837\n",
      "29   GTCCDeltaDelta_4   1.526631\n",
      "27   GTCCDeltaDelta_2   1.317806\n",
      "25       GTCCDelta_13   1.198493\n",
      "34   GTCCDeltaDelta_9   1.079459\n",
      "4              GTCC_5   1.066432\n",
      "18        GTCCDelta_6   0.907141\n",
      "32   GTCCDeltaDelta_7   0.564643\n",
      "31   GTCCDeltaDelta_6   0.243252\n",
      "37  GTCCDeltaDelta_12   0.213343\n",
      "30   GTCCDeltaDelta_5   0.199820\n",
      "36  GTCCDeltaDelta_11   0.118020\n",
      "33   GTCCDeltaDelta_8   0.007229\n"
     ]
    }
   ],
   "source": [
    "print(ns_df_sorted)\n",
    "ns_df_sorted.to_csv(r\"C:\\Users\\iamdh\\GTCConly.csv\")\n"
   ]
  },
  {
   "cell_type": "code",
   "execution_count": 15,
   "id": "c6e21089",
   "metadata": {},
   "outputs": [],
   "source": [
    "from sklearn.feature_selection import  mutual_info_classif"
   ]
  },
  {
   "cell_type": "code",
   "execution_count": 24,
   "id": "e7762dd5",
   "metadata": {},
   "outputs": [],
   "source": [
    "select = SelectKBest(score_func=mutual_info_classif, k=39)\n",
    "z = select.fit_transform(X,Y)"
   ]
  },
  {
   "cell_type": "code",
   "execution_count": 25,
   "id": "a22fa77b",
   "metadata": {},
   "outputs": [],
   "source": [
    "features = np.array(X.columns)"
   ]
  },
  {
   "cell_type": "code",
   "execution_count": 26,
   "id": "b095702a",
   "metadata": {},
   "outputs": [],
   "source": [
    "filter = select.get_support()"
   ]
  },
  {
   "cell_type": "code",
   "execution_count": 27,
   "id": "e97aa97e",
   "metadata": {},
   "outputs": [],
   "source": [
    "scores=select.scores_[filter]\n",
    "filter_scores = list(zip(features[filter], scores))"
   ]
  },
  {
   "cell_type": "code",
   "execution_count": 28,
   "id": "e3fe768b",
   "metadata": {},
   "outputs": [],
   "source": [
    "ns_df = pd.DataFrame(data = filter_scores, columns=\n",
    "\n",
    "  ['Feat_names','Scores'])\n",
    "\n",
    "ns_df_sorted = ns_df.sort_values(['Scores','Feat_names'], ascending =\n",
    "\n",
    "  [False, True])"
   ]
  },
  {
   "cell_type": "code",
   "execution_count": 29,
   "id": "84558690",
   "metadata": {},
   "outputs": [
    {
     "name": "stdout",
     "output_type": "stream",
     "text": [
      "           Feat_names    Scores\n",
      "14        GTCCDelta_2  0.243771\n",
      "19        GTCCDelta_7  0.243219\n",
      "0              GTCC_1  0.240625\n",
      "13        GTCCDelta_1  0.235073\n",
      "6              GTCC_7  0.196701\n",
      "23       GTCCDelta_11  0.126271\n",
      "7              GTCC_8  0.124191\n",
      "16        GTCCDelta_4  0.107268\n",
      "35  GTCCDeltaDelta_10  0.105729\n",
      "26   GTCCDeltaDelta_1  0.104581\n",
      "1              GTCC_2  0.102867\n",
      "18        GTCCDelta_6  0.090905\n",
      "15        GTCCDelta_3  0.087726\n",
      "24       GTCCDelta_12  0.085325\n",
      "21        GTCCDelta_9  0.080300\n",
      "32   GTCCDeltaDelta_7  0.075502\n",
      "28   GTCCDeltaDelta_3  0.074735\n",
      "5              GTCC_6  0.069455\n",
      "4              GTCC_5  0.061257\n",
      "27   GTCCDeltaDelta_2  0.060122\n",
      "9             GTCC_10  0.053299\n",
      "22       GTCCDelta_10  0.049258\n",
      "3              GTCC_4  0.048392\n",
      "20        GTCCDelta_8  0.044208\n",
      "25       GTCCDelta_13  0.039553\n",
      "38  GTCCDeltaDelta_13  0.036913\n",
      "11            GTCC_12  0.036495\n",
      "29   GTCCDeltaDelta_4  0.033435\n",
      "31   GTCCDeltaDelta_6  0.029321\n",
      "2              GTCC_3  0.024365\n",
      "8              GTCC_9  0.012223\n",
      "34   GTCCDeltaDelta_9  0.008891\n",
      "33   GTCCDeltaDelta_8  0.002729\n",
      "36  GTCCDeltaDelta_11  0.000000\n",
      "37  GTCCDeltaDelta_12  0.000000\n",
      "30   GTCCDeltaDelta_5  0.000000\n",
      "17        GTCCDelta_5  0.000000\n",
      "10            GTCC_11  0.000000\n",
      "12            GTCC_13  0.000000\n"
     ]
    }
   ],
   "source": [
    "print(ns_df_sorted)"
   ]
  },
  {
   "cell_type": "code",
   "execution_count": null,
   "id": "75d710ba",
   "metadata": {},
   "outputs": [],
   "source": []
  }
 ],
 "metadata": {
  "kernelspec": {
   "display_name": "Python 3",
   "language": "python",
   "name": "python3"
  },
  "language_info": {
   "codemirror_mode": {
    "name": "ipython",
    "version": 3
   },
   "file_extension": ".py",
   "mimetype": "text/x-python",
   "name": "python",
   "nbconvert_exporter": "python",
   "pygments_lexer": "ipython3",
   "version": "3.8.8"
  }
 },
 "nbformat": 4,
 "nbformat_minor": 5
}
