{
 "cells": [
  {
   "cell_type": "code",
   "execution_count": 1,
   "id": "2ba7a784",
   "metadata": {},
   "outputs": [],
   "source": [
    "import os\n",
    "import pandas as pd\n",
    "import numpy as np\n",
    "import matplotlib.pyplot as plt\n",
    "import seaborn as sns"
   ]
  },
  {
   "cell_type": "code",
   "execution_count": 2,
   "id": "faedea44",
   "metadata": {},
   "outputs": [],
   "source": [
    "dataset = pd.read_csv(r\"C:\\Users\\iamdh\\jitterwhole.csv\")"
   ]
  },
  {
   "cell_type": "code",
   "execution_count": 3,
   "id": "8a9a203f",
   "metadata": {},
   "outputs": [
    {
     "data": {
      "text/plain": [
       "((192, 10), (192,))"
      ]
     },
     "execution_count": 3,
     "metadata": {},
     "output_type": "execute_result"
    }
   ],
   "source": [
    "X=dataset.drop('Classification',axis=1)\n",
    "Y=dataset['Classification']\n",
    "X.shape,Y.shape"
   ]
  },
  {
   "cell_type": "code",
   "execution_count": 4,
   "id": "469ae45f",
   "metadata": {},
   "outputs": [
    {
     "name": "stdout",
     "output_type": "stream",
     "text": [
      "Requirement already satisfied: mrmr_selection in c:\\users\\iamdh\\anaconda3\\lib\\site-packages (0.2.4)Note: you may need to restart the kernel to use updated packages.\n",
      "Requirement already satisfied: sklearn in c:\\users\\iamdh\\anaconda3\\lib\\site-packages (from mrmr_selection) (0.0)\n",
      "Requirement already satisfied: tqdm in c:\\users\\iamdh\\anaconda3\\lib\\site-packages (from mrmr_selection) (4.59.0)\n",
      "Requirement already satisfied: joblib in c:\\users\\iamdh\\anaconda3\\lib\\site-packages (from mrmr_selection) (1.0.1)\n",
      "Requirement already satisfied: scipy in c:\\users\\iamdh\\anaconda3\\lib\\site-packages (from mrmr_selection) (1.6.2)\n",
      "Requirement already satisfied: category-encoders in c:\\users\\iamdh\\anaconda3\\lib\\site-packages (from mrmr_selection) (2.4.0)\n",
      "Requirement already satisfied: pandas>=1.0.3 in c:\\users\\iamdh\\anaconda3\\lib\\site-packages (from mrmr_selection) (1.2.4)\n",
      "Requirement already satisfied: jinja2 in c:\\users\\iamdh\\anaconda3\\lib\\site-packages (from mrmr_selection) (2.11.3)\n",
      "Requirement already satisfied: numpy>=1.18.1 in c:\\users\\iamdh\\anaconda3\\lib\\site-packages (from mrmr_selection) (1.20.1)\n",
      "Requirement already satisfied: python-dateutil>=2.7.3 in c:\\users\\iamdh\\anaconda3\\lib\\site-packages (from pandas>=1.0.3->mrmr_selection) (2.8.1)\n",
      "Requirement already satisfied: pytz>=2017.3 in c:\\users\\iamdh\\anaconda3\\lib\\site-packages (from pandas>=1.0.3->mrmr_selection) (2021.1)\n",
      "Requirement already satisfied: six>=1.5 in c:\\users\\iamdh\\anaconda3\\lib\\site-packages (from python-dateutil>=2.7.3->pandas>=1.0.3->mrmr_selection) (1.15.0)\n",
      "Requirement already satisfied: statsmodels>=0.9.0 in c:\\users\\iamdh\\anaconda3\\lib\\site-packages (from category-encoders->mrmr_selection) (0.12.2)\n",
      "Requirement already satisfied: scikit-learn>=0.20.0 in c:\\users\\iamdh\\anaconda3\\lib\\site-packages (from category-encoders->mrmr_selection) (0.24.1)\n",
      "Requirement already satisfied: patsy>=0.5.1 in c:\\users\\iamdh\\anaconda3\\lib\\site-packages (from category-encoders->mrmr_selection) (0.5.1)\n",
      "Requirement already satisfied: threadpoolctl>=2.0.0 in c:\\users\\iamdh\\anaconda3\\lib\\site-packages (from scikit-learn>=0.20.0->category-encoders->mrmr_selection) (2.1.0)\n",
      "Requirement already satisfied: MarkupSafe>=0.23 in c:\\users\\iamdh\\anaconda3\\lib\\site-packages (from jinja2->mrmr_selection) (1.1.1)\n",
      "\n"
     ]
    }
   ],
   "source": [
    "pip install mrmr_selection\n"
   ]
  },
  {
   "cell_type": "code",
   "execution_count": 5,
   "id": "af61d8ef",
   "metadata": {},
   "outputs": [
    {
     "name": "stderr",
     "output_type": "stream",
     "text": [
      "100%|██████████| 10/10 [00:01<00:00,  5.63it/s]\n"
     ]
    }
   ],
   "source": [
    "from mrmr import mrmr_classif\n",
    "selected_features = mrmr_classif(X=X, y=Y, K=10)"
   ]
  },
  {
   "cell_type": "code",
   "execution_count": 7,
   "id": "4941bcab",
   "metadata": {
    "scrolled": true
   },
   "outputs": [
    {
     "name": "stdout",
     "output_type": "stream",
     "text": [
      "['Shimmer local,db', 'Jitter locals', 'Shimmer apq11', 'Shimmer apq3', 'JitterRap', 'Shimmer apq5', 'Shimmer local', 'Jitter ddp', 'Shimmer dda', 'Jitter pq5']\n"
     ]
    }
   ],
   "source": [
    "print (selected_features)"
   ]
  },
  {
   "cell_type": "code",
   "execution_count": 8,
   "id": "6c42fdd8",
   "metadata": {},
   "outputs": [],
   "source": [
    "from sklearn.feature_selection import SelectKBest\n",
    "from sklearn.feature_selection import f_classif\n"
   ]
  },
  {
   "cell_type": "code",
   "execution_count": 9,
   "id": "6c845c0b",
   "metadata": {},
   "outputs": [],
   "source": [
    "select = SelectKBest(score_func=f_classif, k=10)\n",
    "z = select.fit_transform(X,Y)\n"
   ]
  },
  {
   "cell_type": "code",
   "execution_count": 10,
   "id": "0c09c701",
   "metadata": {},
   "outputs": [],
   "source": [
    "features = np.array(X.columns)"
   ]
  },
  {
   "cell_type": "code",
   "execution_count": 11,
   "id": "15610029",
   "metadata": {},
   "outputs": [],
   "source": [
    "filter = select.get_support()"
   ]
  },
  {
   "cell_type": "code",
   "execution_count": 12,
   "id": "3a14736a",
   "metadata": {},
   "outputs": [],
   "source": [
    "scores=select.scores_[filter]\n",
    "filter_scores = list(zip(features[filter], scores))\n"
   ]
  },
  {
   "cell_type": "code",
   "execution_count": 13,
   "id": "eb499081",
   "metadata": {},
   "outputs": [],
   "source": [
    "ns_df = pd.DataFrame(data = filter_scores, columns=\n",
    "\n",
    "  ['Feat_names','Scores'])\n",
    "\n",
    "ns_df_sorted = ns_df.sort_values(['Scores','Feat_names'], ascending =\n",
    "\n",
    "  [False, True])\n"
   ]
  },
  {
   "cell_type": "code",
   "execution_count": 15,
   "id": "4fdedfc8",
   "metadata": {},
   "outputs": [
    {
     "name": "stdout",
     "output_type": "stream",
     "text": [
      "         Feat_names    Scores\n",
      "5  Shimmer local,db  6.483664\n",
      "1         JitterRap  5.685561\n",
      "4     Shimmer local  4.872697\n",
      "3        Jitter ddp  4.672035\n",
      "0     Jitter locals  3.746753\n",
      "9       Shimmer dda  3.601738\n",
      "6      Shimmer apq3  3.405126\n",
      "7      Shimmer apq5  2.957938\n",
      "2        Jitter pq5  2.525101\n",
      "8     Shimmer apq11  2.511014\n"
     ]
    }
   ],
   "source": [
    "print(ns_df_sorted)\n",
    "ns_df_sorted.to_csv(r\"C:\\Users\\iamdh\\jitterwhole.csv\")\n"
   ]
  },
  {
   "cell_type": "code",
   "execution_count": 16,
   "id": "4bebc8a8",
   "metadata": {},
   "outputs": [],
   "source": [
    "from sklearn.feature_selection import  mutual_info_classif"
   ]
  },
  {
   "cell_type": "code",
   "execution_count": 17,
   "id": "5d741464",
   "metadata": {},
   "outputs": [],
   "source": [
    "select = SelectKBest(score_func=mutual_info_classif, k=10)\n",
    "z = select.fit_transform(X,Y)"
   ]
  },
  {
   "cell_type": "code",
   "execution_count": 18,
   "id": "a87b1206",
   "metadata": {},
   "outputs": [],
   "source": [
    "features = np.array(X.columns)"
   ]
  },
  {
   "cell_type": "code",
   "execution_count": 19,
   "id": "4d2ae05b",
   "metadata": {},
   "outputs": [],
   "source": [
    "filter = select.get_support()"
   ]
  },
  {
   "cell_type": "code",
   "execution_count": 20,
   "id": "92eba1b0",
   "metadata": {},
   "outputs": [],
   "source": [
    "scores=select.scores_[filter]\n",
    "filter_scores = list(zip(features[filter], scores))"
   ]
  },
  {
   "cell_type": "code",
   "execution_count": 21,
   "id": "d00e24c3",
   "metadata": {},
   "outputs": [],
   "source": [
    "ns_df = pd.DataFrame(data = filter_scores, columns=\n",
    "\n",
    "  ['Feat_names','Scores'])\n",
    "\n",
    "ns_df_sorted = ns_df.sort_values(['Scores','Feat_names'], ascending =\n",
    "\n",
    "  [False, True])"
   ]
  },
  {
   "cell_type": "code",
   "execution_count": 23,
   "id": "0e66d3fd",
   "metadata": {},
   "outputs": [
    {
     "name": "stdout",
     "output_type": "stream",
     "text": [
      "         Feat_names    Scores\n",
      "8     Shimmer apq11  0.260653\n",
      "4     Shimmer local  0.088582\n",
      "2        Jitter pq5  0.059753\n",
      "9       Shimmer dda  0.059166\n",
      "0     Jitter locals  0.056985\n",
      "6      Shimmer apq3  0.047205\n",
      "5  Shimmer local,db  0.036436\n",
      "7      Shimmer apq5  0.030947\n",
      "3        Jitter ddp  0.000000\n",
      "1         JitterRap  0.000000\n"
     ]
    }
   ],
   "source": [
    "print(ns_df_sorted)\n",
    "ns_df_sorted.to_csv(r\"C:\\Users\\iamdh\\jitterwhole.csv\")"
   ]
  },
  {
   "cell_type": "code",
   "execution_count": null,
   "id": "ef296b7e",
   "metadata": {},
   "outputs": [],
   "source": []
  }
 ],
 "metadata": {
  "kernelspec": {
   "display_name": "Python 3",
   "language": "python",
   "name": "python3"
  },
  "language_info": {
   "codemirror_mode": {
    "name": "ipython",
    "version": 3
   },
   "file_extension": ".py",
   "mimetype": "text/x-python",
   "name": "python",
   "nbconvert_exporter": "python",
   "pygments_lexer": "ipython3",
   "version": "3.8.8"
  }
 },
 "nbformat": 4,
 "nbformat_minor": 5
}
