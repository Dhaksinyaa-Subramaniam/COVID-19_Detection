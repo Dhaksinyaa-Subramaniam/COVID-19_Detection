{
 "cells": [
  {
   "cell_type": "code",
   "execution_count": 75,
   "id": "d2630afc",
   "metadata": {},
   "outputs": [],
   "source": [
    "import numpy as np\n",
    "import pandas as pd\n",
    "from sklearn.model_selection import train_test_split\n",
    "from sklearn.preprocessing import StandardScaler\n",
    "from sklearn.svm import SVC\n",
    "from sklearn.neighbors import KNeighborsClassifier\n",
    "from sklearn.ensemble import RandomForestClassifier\n",
    "from sklearn.metrics import accuracy_score\n",
    "from sklearn.metrics import accuracy_score, precision_score, recall_score, f1_score, confusion_matrix\n",
    "from sklearn.preprocessing import LabelEncoder\n",
    "import matplotlib.pyplot as plt\n",
    "from sklearn.metrics import roc_curve, roc_auc_score, plot_confusion_matrix\n",
    "\n"
   ]
  },
  {
   "cell_type": "code",
   "execution_count": 11,
   "id": "9aa57508",
   "metadata": {},
   "outputs": [],
   "source": [
    "train_data=pd.read_csv(\"Virufytrain.csv\")"
   ]
  },
  {
   "cell_type": "code",
   "execution_count": 12,
   "id": "d8d0f866",
   "metadata": {},
   "outputs": [],
   "source": [
    "X_train = train_data.iloc[:, :-1]\n",
    "y_train = train_data.iloc[:, -1]\n"
   ]
  },
  {
   "cell_type": "code",
   "execution_count": 13,
   "id": "5b85b410",
   "metadata": {},
   "outputs": [],
   "source": [
    "scaler = StandardScaler()\n",
    "X_train_scaled = scaler.fit_transform(X_train)\n"
   ]
  },
  {
   "cell_type": "code",
   "execution_count": 14,
   "id": "9146226a",
   "metadata": {},
   "outputs": [
    {
     "data": {
      "text/plain": [
       "SVC(kernel='linear')"
      ]
     },
     "execution_count": 14,
     "metadata": {},
     "output_type": "execute_result"
    }
   ],
   "source": [
    "svm_model = SVC(kernel='linear')  \n",
    "svm_model.fit(X_train_scaled, y_train)"
   ]
  },
  {
   "cell_type": "code",
   "execution_count": 15,
   "id": "0e9c7162",
   "metadata": {},
   "outputs": [
    {
     "data": {
      "text/plain": [
       "KNeighborsClassifier()"
      ]
     },
     "execution_count": 15,
     "metadata": {},
     "output_type": "execute_result"
    }
   ],
   "source": [
    "knn_model = KNeighborsClassifier(n_neighbors=5) \n",
    "knn_model.fit(X_train_scaled, y_train)"
   ]
  },
  {
   "cell_type": "code",
   "execution_count": 16,
   "id": "a1a6a607",
   "metadata": {},
   "outputs": [
    {
     "data": {
      "text/plain": [
       "RandomForestClassifier(random_state=42)"
      ]
     },
     "execution_count": 16,
     "metadata": {},
     "output_type": "execute_result"
    }
   ],
   "source": [
    "ensemble_model = RandomForestClassifier(n_estimators=100, random_state=42)  \n",
    "ensemble_model.fit(X_train_scaled, y_train)"
   ]
  },
  {
   "cell_type": "code",
   "execution_count": 56,
   "id": "eb46f447",
   "metadata": {},
   "outputs": [],
   "source": [
    "test_data=pd.read_csv(\"Virufytest.csv\")"
   ]
  },
  {
   "cell_type": "code",
   "execution_count": 57,
   "id": "49c4da46",
   "metadata": {},
   "outputs": [],
   "source": [
    "X_test = test_data.iloc[:, :-1]\n",
    "y_test = test_data.iloc[:, -1]\n"
   ]
  },
  {
   "cell_type": "code",
   "execution_count": 58,
   "id": "09f7ccbf",
   "metadata": {},
   "outputs": [],
   "source": [
    "X_test_scaled = scaler.transform(X_test) "
   ]
  },
  {
   "cell_type": "code",
   "execution_count": 62,
   "id": "684f68ec",
   "metadata": {},
   "outputs": [
    {
     "name": "stdout",
     "output_type": "stream",
     "text": [
      "KNN Accuracy: 0.8648648648648649\n"
     ]
    }
   ],
   "source": [
    "knn_predictions = knn_model.predict(X_test_scaled)\n",
    "knn_accuracy = accuracy_score(y_test, knn_predictions)\n",
    "print(\"KNN Accuracy:\", knn_accuracy)\n"
   ]
  },
  {
   "cell_type": "code",
   "execution_count": 63,
   "id": "0d8b2bd9",
   "metadata": {},
   "outputs": [
    {
     "name": "stdout",
     "output_type": "stream",
     "text": [
      "Ensemble Model (Random Forest) Accuracy: 0.8918918918918919\n"
     ]
    }
   ],
   "source": [
    "ensemble_predictions = ensemble_model.predict(X_test_scaled)\n",
    "ensemble_accuracy = accuracy_score(y_test, ensemble_predictions)\n",
    "print(\"Ensemble Model (Random Forest) Accuracy:\", ensemble_accuracy)"
   ]
  },
  {
   "cell_type": "code",
   "execution_count": 72,
   "id": "071c1cd3",
   "metadata": {},
   "outputs": [],
   "source": [
    "svm_precision = precision_score(y_test, svm_predictions, average='weighted')\n",
    "svm_recall = recall_score(y_test, svm_predictions, average='weighted')\n",
    "svm_f1 = f1_score(y_test, svm_predictions, average='weighted')\n",
    "\n",
    "knn_precision = precision_score(y_test, knn_predictions, average='weighted')\n",
    "knn_recall = recall_score(y_test, knn_predictions, average='weighted')\n",
    "knn_f1 = f1_score(y_test, knn_predictions, average='weighted')\n",
    "\n",
    "ensemble_precision = precision_score(y_test, ensemble_predictions, average='weighted')\n",
    "ensemble_recall = recall_score(y_test, ensemble_predictions, average='weighted')\n",
    "ensemble_f1 = f1_score(y_test, ensemble_predictions, average='weighted')"
   ]
  },
  {
   "cell_type": "code",
   "execution_count": 73,
   "id": "94ee9245",
   "metadata": {},
   "outputs": [],
   "source": [
    "svm_conf_matrix = confusion_matrix(y_test, svm_predictions)\n",
    "knn_conf_matrix = confusion_matrix(y_test, knn_predictions)\n",
    "ensemble_conf_matrix = confusion_matrix(y_test, ensemble_predictions)"
   ]
  },
  {
   "cell_type": "code",
   "execution_count": 74,
   "id": "a59d2e2e",
   "metadata": {
    "scrolled": true
   },
   "outputs": [
    {
     "name": "stdout",
     "output_type": "stream",
     "text": [
      "SVM Evaluation Metrics:\n",
      "Precision: 0.8451308451308452\n",
      "Recall: 0.8378378378378378\n",
      "F1 Score: 0.8293328293328295\n",
      "Confusion Matrix:\n",
      " [[23  1]\n",
      " [ 5  8]]\n",
      "\n",
      "KNN Evaluation Metrics:\n",
      "Precision: 0.8636036036036036\n",
      "Recall: 0.8648648648648649\n",
      "F1 Score: 0.8635410921125207\n",
      "Confusion Matrix:\n",
      " [[22  2]\n",
      " [ 3 10]]\n",
      "\n",
      "Ensemble Model (Random Forest) Evaluation Metrics:\n",
      "Precision: 0.9073359073359073\n",
      "Recall: 0.8918918918918919\n",
      "F1 Score: 0.8862218862218861\n",
      "Confusion Matrix:\n",
      " [[24  0]\n",
      " [ 4  9]]\n"
     ]
    }
   ],
   "source": [
    "print(\"SVM Evaluation Metrics:\")\n",
    "print(\"Precision:\", svm_precision)\n",
    "print(\"Recall:\", svm_recall)\n",
    "print(\"F1 Score:\", svm_f1)\n",
    "print(\"Confusion Matrix:\\n\", svm_conf_matrix)\n",
    "\n",
    "print(\"\\nKNN Evaluation Metrics:\")\n",
    "print(\"Precision:\", knn_precision)\n",
    "print(\"Recall:\", knn_recall)\n",
    "print(\"F1 Score:\", knn_f1)\n",
    "print(\"Confusion Matrix:\\n\", knn_conf_matrix)\n",
    "\n",
    "print(\"\\nEnsemble Model (Random Forest) Evaluation Metrics:\")\n",
    "print(\"Precision:\", ensemble_precision)\n",
    "print(\"Recall:\", ensemble_recall)\n",
    "print(\"F1 Score:\", ensemble_f1)\n",
    "print(\"Confusion Matrix:\\n\", ensemble_conf_matrix)"
   ]
  },
  {
   "cell_type": "code",
   "execution_count": 76,
   "id": "b5677853",
   "metadata": {},
   "outputs": [
    {
     "data": {
      "text/plain": [
       "<Figure size 720x360 with 0 Axes>"
      ]
     },
     "execution_count": 76,
     "metadata": {},
     "output_type": "execute_result"
    },
    {
     "data": {
      "text/plain": [
       "<Figure size 720x360 with 0 Axes>"
      ]
     },
     "metadata": {},
     "output_type": "display_data"
    }
   ],
   "source": [
    "plt.figure(figsize=(10, 5))"
   ]
  },
  {
   "cell_type": "code",
   "execution_count": 83,
   "id": "23088f15",
   "metadata": {},
   "outputs": [
    {
     "data": {
      "image/png": "[encoded data removed]",
      "text/plain": [
       "<Figure size 720x432 with 1 Axes>"
      ]
     },
     "metadata": {
      "needs_background": "light"
     },
     "output_type": "display_data"
    }
   ],
   "source": [
    "plt.figure(figsize=(10, 6))\n",
    "\n",
    "svm_probs = svm_model.decision_function(X_test_scaled)\n",
    "svm_fpr, svm_tpr, _ = roc_curve(y_test_encoded, svm_probs)\n",
    "svm_auc = roc_auc_score(y_test_encoded, svm_probs)\n",
    "plt.plot(svm_fpr, svm_tpr, label=f'SVM (AUC = {svm_auc:.2f})')\n",
    "\n",
    "knn_probs = knn_model.predict_proba(X_test_scaled)[:, 1]\n",
    "knn_fpr, knn_tpr, _ = roc_curve(y_test_encoded, knn_probs)\n",
    "knn_auc = roc_auc_score(y_test_encoded, knn_probs)\n",
    "plt.plot(knn_fpr, knn_tpr, label=f'KNN (AUC = {knn_auc:.2f})')\n",
    "\n",
    "ensemble_probs = ensemble_model.predict_proba(X_test_scaled)[:, 1]\n",
    "ensemble_fpr, ensemble_tpr, _ = roc_curve(y_test_encoded, ensemble_probs)\n",
    "ensemble_auc = roc_auc_score(y_test_encoded, ensemble_probs)\n",
    "plt.plot(ensemble_fpr, ensemble_tpr, label=f'Ensemble Model (AUC = {ensemble_auc:.2f})')\n",
    "\n",
    "plt.plot([0, 1], [0, 1], linestyle='--', color='grey') \n",
    "plt.xlabel('False Positive Rate')\n",
    "plt.ylabel('True Positive Rate')\n",
    "plt.title('Receiver Operating Characteristic (ROC) Curves')\n",
    "plt.legend()\n",
    "plt.grid(True)\n",
    "plt.show()\n"
   ]
  },
  {
   "cell_type": "code",
   "execution_count": 84,
   "id": "ca6c47d3",
   "metadata": {},
   "outputs": [
    {
     "data": {
      "image/png": "[encoded data removed]",
      "text/plain": [
       "<Figure size 1080x360 with 6 Axes>"
      ]
     },
     "metadata": {
      "needs_background": "light"
     },
     "output_type": "display_data"
    }
   ],
   "source": [
    "fig, axes = plt.subplots(1, 3, figsize=(15, 5))\n",
    "\n",
    "plot_confusion_matrix(svm_model, X_test_scaled, y_test, ax=axes[0])\n",
    "axes[0].set_title('SVM Confusion Matrix')\n",
    "\n",
    "plot_confusion_matrix(knn_model, X_test_scaled, y_test, ax=axes[1])\n",
    "axes[1].set_title('KNN Confusion Matrix')\n",
    "\n",
    "plot_confusion_matrix(ensemble_model, X_test_scaled, y_test, ax=axes[2])\n",
    "axes[2].set_title('Ensemble Model (Random Forest) Confusion Matrix')\n",
    "\n",
    "plt.tight_layout()\n",
    "plt.show()\n"
   ]
  },
  {
   "cell_type": "code",
   "execution_count": null,
   "id": "5c4a5454",
   "metadata": {},
   "outputs": [],
   "source": []
  }
 ],
 "metadata": {
  "kernelspec": {
   "display_name": "Python 3",
   "language": "python",
   "name": "python3"
  },
  "language_info": {
   "codemirror_mode": {
    "name": "ipython",
    "version": 3
   },
   "file_extension": ".py",
   "mimetype": "text/x-python",
   "name": "python",
   "nbconvert_exporter": "python",
   "pygments_lexer": "ipython3",
   "version": "3.8.8"
  }
 },
 "nbformat": 4,
 "nbformat_minor": 5
}
